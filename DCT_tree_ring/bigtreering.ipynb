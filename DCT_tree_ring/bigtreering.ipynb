{
 "cells": [
  {
   "cell_type": "code",
   "execution_count": 4063,
   "id": "06750341",
   "metadata": {},
   "outputs": [],
   "source": [
    "import torch\n",
    "import torch_dct as dct\n",
    "from torchvision.utils import save_image\n",
    "from torchvision.io import read_image\n",
    "import copy\n",
    "import numpy as np\n",
    "import torch.nn.functional as F\n",
    "from torchvision.transforms import functional\n",
    "import torchvision.transforms as T\n",
    "import kornia.augmentation as K"
   ]
  },
  {
   "cell_type": "code",
   "execution_count": 4058,
   "id": "003f37c8",
   "metadata": {},
   "outputs": [],
   "source": [
    "import matplotlib.pyplot as plt"
   ]
  },
  {
   "cell_type": "code",
   "execution_count": 3002,
   "id": "895f4579",
   "metadata": {},
   "outputs": [],
   "source": [
    "img = read_image('/Users/navtegh/Downloads/pika.jpg')"
   ]
  },
  {
   "cell_type": "code",
   "execution_count": 4075,
   "id": "8e833e1d",
   "metadata": {},
   "outputs": [],
   "source": [
    "img = read_image('/Users/navtegh/Downloads/monkey.jpg')"
   ]
  },
  {
   "cell_type": "code",
   "execution_count": 4076,
   "id": "47c0c2a9",
   "metadata": {},
   "outputs": [],
   "source": [
    "res1 = int(256 * np.sqrt(0.3))\n",
    "# res2 = int(img_size * np.sqrt(0.7))\n",
    "res1 = K.RandomResizedCrop(size=(res1, res1), scale=(1.0,1.0), p=1) # Resize 0.3\n",
    "        "
   ]
  },
  {
   "cell_type": "code",
   "execution_count": 4079,
   "id": "bece4909",
   "metadata": {},
   "outputs": [],
   "source": [
    "Y=res1(img/255)"
   ]
  },
  {
   "cell_type": "code",
   "execution_count": 4083,
   "id": "dae63d3c",
   "metadata": {},
   "outputs": [],
   "source": [
    "scale = np.sqrt(0.3)\n",
    "new_edges_size = [int(s*scale) for s in img.shape[-2:]][::-1]\n",
    "if new_edges_size[0]%2==1:\n",
    "    new_edges_size[0]=new_edges_size[0]+1\n",
    "    new_edges_size[1]=new_edges_size[1]+1\n",
    "z=functional.resize(img, new_edges_size)"
   ]
  },
  {
   "cell_type": "code",
   "execution_count": 4085,
   "id": "9e0e2963",
   "metadata": {},
   "outputs": [],
   "source": [
    "save_image(z/255,\"z.png\")"
   ]
  },
  {
   "cell_type": "code",
   "execution_count": null,
   "id": "3b909d05",
   "metadata": {},
   "outputs": [],
   "source": []
  },
  {
   "cell_type": "code",
   "execution_count": 4080,
   "id": "dbca85b1",
   "metadata": {},
   "outputs": [],
   "source": [
    "save_image(Y,\"y.png\")"
   ]
  },
  {
   "cell_type": "code",
   "execution_count": 4056,
   "id": "d2c10045",
   "metadata": {},
   "outputs": [],
   "source": [
    "imgr= functional.rotate(img, 25)"
   ]
  },
  {
   "cell_type": "code",
   "execution_count": 4060,
   "id": "cd48f194",
   "metadata": {},
   "outputs": [],
   "source": [
    "save_image(imgr/255,\"imgr.png\")"
   ]
  },
  {
   "cell_type": "code",
   "execution_count": 4069,
   "id": "9982ab7a",
   "metadata": {},
   "outputs": [],
   "source": [
    "l=torch.nn.Sequential(\n",
    "   K.RandomAffine(degrees=25,p=1),\n",
    "  # kornia.augmentation.ColorJitter(brightness=0.2, contrast=0.3, saturation=0.2, hue=0.3, p=1)\n",
    ")"
   ]
  },
  {
   "cell_type": "code",
   "execution_count": 4071,
   "id": "e6d3e0af",
   "metadata": {},
   "outputs": [],
   "source": [
    "X=l(img/255)"
   ]
  },
  {
   "cell_type": "code",
   "execution_count": 4072,
   "id": "0b81217f",
   "metadata": {},
   "outputs": [],
   "source": [
    "save_image(X,\"x.png\")"
   ]
  },
  {
   "cell_type": "code",
   "execution_count": 496,
   "id": "48255a7c",
   "metadata": {},
   "outputs": [],
   "source": [
    "img1=img[:,-33:,-32:]"
   ]
  },
  {
   "cell_type": "code",
   "execution_count": 497,
   "id": "adf06ee3",
   "metadata": {},
   "outputs": [],
   "source": [
    "save_image(img1/255,\"img1.png\")"
   ]
  },
  {
   "cell_type": "code",
   "execution_count": 331,
   "id": "a583dd3c",
   "metadata": {},
   "outputs": [],
   "source": [
    "img2=img1[:,:-4,:-3]"
   ]
  },
  {
   "cell_type": "code",
   "execution_count": 332,
   "id": "eab2bab3",
   "metadata": {},
   "outputs": [],
   "source": [
    "save_image(img2/255,\"img2.png\")"
   ]
  },
  {
   "cell_type": "code",
   "execution_count": 3713,
   "id": "0aba2327",
   "metadata": {},
   "outputs": [],
   "source": [
    "img=img.unsqueeze(0)"
   ]
  },
  {
   "cell_type": "code",
   "execution_count": 3714,
   "id": "29be9edb",
   "metadata": {},
   "outputs": [],
   "source": [
    "img=img.repeat(4,1,1,1)"
   ]
  },
  {
   "cell_type": "code",
   "execution_count": 95,
   "id": "6c6c8743",
   "metadata": {},
   "outputs": [
    {
     "name": "stderr",
     "output_type": "stream",
     "text": [
      "/var/folders/yp/vbxqsj792y10fn807d171gyc0000gn/T/ipykernel_52842/3286099304.py:1: UserWarning: To copy construct from a tensor, it is recommended to use sourceTensor.clone().detach() or sourceTensor.clone().detach().requires_grad_(True), rather than torch.tensor(sourceTensor).\n",
      "  img = torch.tensor(img, dtype=torch.float)\n"
     ]
    }
   ],
   "source": [
    "img = torch.tensor(img, dtype=torch.float)"
   ]
  },
  {
   "cell_type": "code",
   "execution_count": 147,
   "id": "7f31f575",
   "metadata": {},
   "outputs": [
    {
     "data": {
      "text/plain": [
       "tensor(0, dtype=torch.uint8)"
      ]
     },
     "execution_count": 147,
     "metadata": {},
     "output_type": "execute_result"
    }
   ],
   "source": [
    "img.min()"
   ]
  },
  {
   "cell_type": "code",
   "execution_count": 3694,
   "id": "be35c35b",
   "metadata": {},
   "outputs": [],
   "source": [
    "device = 'cuda' if torch.cuda.is_available() else 'cpu'"
   ]
  },
  {
   "cell_type": "code",
   "execution_count": 3989,
   "id": "ee2f1f91",
   "metadata": {},
   "outputs": [],
   "source": [
    "def circle_mask(size=256, r=100, x_offset=110, y_offset=-109):\n",
    "    x0 = y0 = size // 2\n",
    "    x0 += x_offset\n",
    "    y0 += y_offset\n",
    "    y, x = np.ogrid[:size, :size]\n",
    "    y = y[::-1]\n",
    "    return ((x - x0)**2 + (y-y0)**2)<= r**2"
   ]
  },
  {
   "cell_type": "code",
   "execution_count": 3160,
   "id": "c2d7bf64",
   "metadata": {},
   "outputs": [
    {
     "data": {
      "text/plain": [
       "tensor(255, dtype=torch.uint8)"
      ]
     },
     "execution_count": 3160,
     "metadata": {},
     "output_type": "execute_result"
    }
   ],
   "source": [
    "img.max()"
   ]
  },
  {
   "cell_type": "code",
   "execution_count": 3161,
   "id": "740455ca",
   "metadata": {},
   "outputs": [
    {
     "data": {
      "text/plain": [
       "torch.Size([4, 3, 256, 256])"
      ]
     },
     "execution_count": 3161,
     "metadata": {},
     "output_type": "execute_result"
    }
   ],
   "source": [
    "img.shape"
   ]
  },
  {
   "cell_type": "code",
   "execution_count": 3162,
   "id": "5f09a627",
   "metadata": {},
   "outputs": [
    {
     "data": {
      "text/plain": [
       "tensor(0, dtype=torch.uint8)"
      ]
     },
     "execution_count": 3162,
     "metadata": {},
     "output_type": "execute_result"
    }
   ],
   "source": [
    "img[0,:,:,:].min()"
   ]
  },
  {
   "cell_type": "code",
   "execution_count": 3163,
   "id": "e9cf5780",
   "metadata": {},
   "outputs": [],
   "source": [
    "imgd=dct.dct_2d(img[:,:,:]/255)"
   ]
  },
  {
   "cell_type": "code",
   "execution_count": 3164,
   "id": "b8bae010",
   "metadata": {},
   "outputs": [
    {
     "data": {
      "text/plain": [
       "tensor(239056.5312)"
      ]
     },
     "execution_count": 3164,
     "metadata": {},
     "output_type": "execute_result"
    }
   ],
   "source": [
    "imgd.max()"
   ]
  },
  {
   "cell_type": "code",
   "execution_count": 3165,
   "id": "af0206e6",
   "metadata": {},
   "outputs": [],
   "source": [
    "save_image(imgd,\"imgd.png\")"
   ]
  },
  {
   "cell_type": "code",
   "execution_count": 3166,
   "id": "6ee33569",
   "metadata": {},
   "outputs": [],
   "source": [
    "imgi=dct.idct_2d(imgd)"
   ]
  },
  {
   "cell_type": "code",
   "execution_count": 3167,
   "id": "514b0e05",
   "metadata": {},
   "outputs": [
    {
     "data": {
      "text/plain": [
       "tensor(1.0000)"
      ]
     },
     "execution_count": 3167,
     "metadata": {},
     "output_type": "execute_result"
    }
   ],
   "source": [
    "imgi.max()"
   ]
  },
  {
   "cell_type": "code",
   "execution_count": 3168,
   "id": "f8dca0ab",
   "metadata": {},
   "outputs": [],
   "source": [
    "save_image(imgi,\"imgi.png\")"
   ]
  },
  {
   "cell_type": "code",
   "execution_count": 3169,
   "id": "068fdc47",
   "metadata": {},
   "outputs": [
    {
     "data": {
      "text/plain": [
       "tensor(0, dtype=torch.uint8)"
      ]
     },
     "execution_count": 3169,
     "metadata": {},
     "output_type": "execute_result"
    }
   ],
   "source": [
    "img.min()"
   ]
  },
  {
   "cell_type": "code",
   "execution_count": 3920,
   "id": "f5b38d3a",
   "metadata": {},
   "outputs": [],
   "source": [
    "def get_watermarking_pattern( image,w_radius, device):\n",
    "    gt_init = (image).to(device)\n",
    "    print(gt_init.shape)\n",
    "#     gt_patch = torch.fft.fftshift(torch.fft.fft2(gt_init/255))\n",
    "    gt_patch=dct.dct_2d(gt_init/255)\n",
    "#     save_image(gt_patch[0,:,:,:],\"patch.png\")\n",
    "    gt_patch_tmp = copy.deepcopy(gt_patch)\n",
    "    save_image(gt_patch_tmp[0,:,:,:],\"patch_tmp.png\")\n",
    "    mini=gt_patch.min()\n",
    "    maxi=gt_patch.max()\n",
    "    print(mini)\n",
    "    print(maxi)\n",
    "    for i in range(w_radius, 0, -1):\n",
    "        tmp_mask = circle_mask(gt_init.shape[-1], r=i)\n",
    "        tmp_mask = torch.tensor(tmp_mask).to(device)\n",
    "        for j in range(gt_patch.shape[1]):\n",
    "       # gt_patch[:, j, tmp_mask] =gt_patch_tmp[0, j,0,i].item()\n",
    "            if i % 6 == 0 or i % 6 == 1 or i % 6 == 2:  \n",
    "                gt_patch[:, j, tmp_mask] =torch.tensor(255)\n",
    "            else: \n",
    "#                 gt_patch[:, j, tmp_mask] =gt_patch_tmp[:, j, tmp_mask]   \n",
    "                gt_patch[:, j, tmp_mask] =torch.tensor(-255)\n",
    "#     save_image(gt_patch[0,:,:,:],\"gt_patch.png\")\n",
    "    xya=dct.idct_2d(gt_patch)\n",
    "#     xya=torch.fft.ifft2(torch.fft.ifftshift(gt_patch))\n",
    "    save_image(xya[0,:,:,:],\"xyz.png\")\n",
    "    \n",
    "    return xya"
   ]
  },
  {
   "cell_type": "code",
   "execution_count": 3921,
   "id": "87557704",
   "metadata": {},
   "outputs": [
    {
     "name": "stdout",
     "output_type": "stream",
     "text": [
      "torch.Size([4, 3, 256, 256])\n",
      "tensor(-12088.8926)\n",
      "tensor(138015.0781)\n"
     ]
    }
   ],
   "source": [
    "inject_img=get_watermarking_pattern(img,15,device)"
   ]
  },
  {
   "cell_type": "code",
   "execution_count": 3922,
   "id": "fd8ee829",
   "metadata": {},
   "outputs": [],
   "source": [
    "abc=inject_img[0,:,:,:]"
   ]
  },
  {
   "cell_type": "code",
   "execution_count": 3948,
   "id": "630e02ce",
   "metadata": {},
   "outputs": [],
   "source": [
    "key=torch.tensor([[-1., -1., -1., -1., -1., -1., -1., -1., -1., -1., -1., -1., -1.,\n",
    "        -1., -1., -1., -1., -1., -1., -1., -1., -1., -1., -1., -1., -1.,\n",
    "        -1., -1., -1., -1., -1., -1.],\n",
    "       [-1., -1., -1., -1., -1., -1., -1., -1., -1., -1., -1., -1., -1.,\n",
    "        -1., -1., -1., -1., -1., -1., -1., -1., -1., -1., -1., -1., -1.,\n",
    "        -1., -1., -1., -1., -1., -1.],\n",
    "       [-1., -1., -1., -1., -1., -1., -1., -1., -1., -1., -1., -1., -1.,\n",
    "        -1., -1., -1., -1., -1., -1., -1., -1., -1., -1., -1., -1., -1.,\n",
    "        -1., -1., -1., -1., -1., -1.],\n",
    "       [-1., -1., -1., -1., -1., -1., -1., -1., -1., -1., -1., -1., -1.,\n",
    "        -1., -1., -1., -1., -1., -1., -1., -1., -1., -1., -1., -1., -1.,\n",
    "        -1., -1., -1., -1., -1., -1.],\n",
    "       [-1., -1., -1., -1., -1., -1., -1., -1., -1., -1., -1., -1., -1.,\n",
    "        -1., -1., -1., -1., -1., -1., -1., -1., -1., -1., -1., -1., -1.,\n",
    "        -1., -1., -1., -1., -1., -1.],\n",
    "       [-1., -1., -1., -1., -1., -1., -1., -1., -1., -1., -1., -1., -1.,\n",
    "        -1., -1., -1.,  1., -1., -1., -1., -1., -1., -1., -1., -1., -1.,\n",
    "        -1., -1., -1., -1., -1., -1.],\n",
    "       [-1., -1., -1., -1., -1., -1., -1., -1., -1., -1., -1., -1.,  1.,\n",
    "         1.,  1.,  1., -1.,  1.,  1.,  1.,  1., -1., -1., -1., -1., -1.,\n",
    "        -1., -1., -1., -1., -1., -1.],\n",
    "       [-1., -1., -1., -1., -1., -1., -1., -1., -1., -1.,  1.,  1., -1.,\n",
    "        -1., -1., -1.,  1., -1., -1., -1., -1.,  1.,  1., -1., -1., -1.,\n",
    "        -1., -1., -1., -1., -1., -1.],\n",
    "       [-1., -1., -1., -1., -1., -1., -1., -1., -1.,  1.,  1., -1., -1.,\n",
    "         1.,  1.,  1.,  1.,  1.,  1.,  1., -1., -1.,  1.,  1., -1., -1.,\n",
    "        -1., -1., -1., -1., -1., -1.],\n",
    "       [-1., -1., -1., -1., -1., -1., -1., -1.,  1.,  1., -1.,  1.,  1.,\n",
    "         1.,  1.,  1., -1.,  1.,  1.,  1.,  1.,  1., -1.,  1.,  1., -1.,\n",
    "        -1., -1., -1., -1., -1., -1.],\n",
    "       [-1., -1., -1., -1., -1., -1., -1., -1.,  1., -1.,  1.,  1.,  1.,\n",
    "        -1., -1., -1., -1., -1., -1., -1.,  1.,  1.,  1., -1.,  1., -1.,\n",
    "        -1., -1., -1., -1., -1., -1.],\n",
    "       [-1., -1., -1., -1., -1., -1., -1.,  1., -1., -1.,  1.,  1., -1.,\n",
    "        -1., -1., -1.,  1., -1., -1., -1., -1.,  1.,  1., -1., -1.,  1.,\n",
    "        -1., -1., -1., -1., -1., -1.],\n",
    "       [-1., -1., -1., -1., -1., -1., -1.,  1., -1.,  1.,  1., -1., -1.,\n",
    "        -1.,  1.,  1., -1.,  1.,  1., -1., -1., -1.,  1.,  1., -1.,  1.,\n",
    "        -1., -1., -1., -1., -1., -1.],\n",
    "       [-1., -1., -1., -1., -1., -1., -1.,  1., -1.,  1.,  1., -1., -1.,\n",
    "         1., -1., -1.,  1., -1., -1.,  1., -1., -1.,  1.,  1., -1.,  1.,\n",
    "        -1., -1., -1., -1., -1., -1.],\n",
    "       [-1., -1., -1., -1., -1., -1., -1.,  1., -1.,  1.,  1., -1., -1.,\n",
    "         1., -1.,  1., -1.,  1., -1.,  1., -1., -1.,  1.,  1., -1.,  1.,\n",
    "        -1., -1., -1., -1., -1., -1.],\n",
    "       [-1., -1., -1., -1., -1., -1.,  1., -1.,  1.,  1., -1., -1.,  1.,\n",
    "        -1.,  1., -1., -1., -1.,  1., -1.,  1., -1., -1.,  1.,  1., -1.,\n",
    "         1., -1., -1., -1., -1., -1.],\n",
    "       [-1., -1., -1., -1., -1., -1., -1.,  1., -1.,  1.,  1., -1., -1.,\n",
    "         1., -1.,  1., -1.,  1., -1.,  1., -1., -1.,  1.,  1., -1.,  1.,\n",
    "        -1., -1., -1., -1., -1., -1.],\n",
    "       [-1., -1., -1., -1., -1., -1., -1.,  1., -1.,  1.,  1., -1., -1.,\n",
    "         1., -1., -1.,  1., -1., -1.,  1., -1., -1.,  1.,  1., -1.,  1.,\n",
    "        -1., -1., -1., -1., -1., -1.],\n",
    "       [-1., -1., -1., -1., -1., -1., -1.,  1., -1.,  1.,  1., -1., -1.,\n",
    "        -1.,  1.,  1., -1.,  1.,  1., -1., -1., -1.,  1.,  1., -1.,  1.,\n",
    "        -1., -1., -1., -1., -1., -1.],\n",
    "       [-1., -1., -1., -1., -1., -1., -1.,  1., -1., -1.,  1.,  1., -1.,\n",
    "        -1., -1., -1.,  1., -1., -1., -1., -1.,  1.,  1., -1., -1.,  1.,\n",
    "        -1., -1., -1., -1., -1., -1.],\n",
    "       [-1., -1., -1., -1., -1., -1., -1., -1.,  1., -1.,  1.,  1.,  1.,\n",
    "        -1., -1., -1., -1., -1., -1., -1.,  1.,  1.,  1., -1.,  1., -1.,\n",
    "        -1., -1., -1., -1., -1., -1.],\n",
    "       [-1., -1., -1., -1., -1., -1., -1., -1.,  1.,  1., -1.,  1.,  1.,\n",
    "         1.,  1.,  1., -1.,  1.,  1.,  1.,  1.,  1., -1.,  1.,  1., -1.,\n",
    "        -1., -1., -1., -1., -1., -1.],\n",
    "       [-1., -1., -1., -1., -1., -1., -1., -1., -1.,  1.,  1., -1., -1.,\n",
    "         1.,  1.,  1.,  1.,  1.,  1.,  1., -1., -1.,  1.,  1., -1., -1.,\n",
    "        -1., -1., -1., -1., -1., -1.],\n",
    "       [-1., -1., -1., -1., -1., -1., -1., -1., -1., -1.,  1.,  1., -1.,\n",
    "        -1., -1., -1.,  1., -1., -1., -1., -1.,  1.,  1., -1., -1., -1.,\n",
    "        -1., -1., -1., -1., -1., -1.],\n",
    "       [-1., -1., -1., -1., -1., -1., -1., -1., -1., -1., -1., -1.,  1.,\n",
    "         1.,  1.,  1., -1.,  1.,  1.,  1.,  1., -1., -1., -1., -1., -1.,\n",
    "        -1., -1., -1., -1., -1., -1.],\n",
    "       [-1., -1., -1., -1., -1., -1., -1., -1., -1., -1., -1., -1., -1.,\n",
    "        -1., -1., -1.,  1., -1., -1., -1., -1., -1., -1., -1., -1., -1.,\n",
    "        -1., -1., -1., -1., -1., -1.],\n",
    "       [-1., -1., -1., -1., -1., -1., -1., -1., -1., -1., -1., -1., -1.,\n",
    "        -1., -1., -1., -1., -1., -1., -1., -1., -1., -1., -1., -1., -1.,\n",
    "        -1., -1., -1., -1., -1., -1.],\n",
    "       [-1., -1., -1., -1., -1., -1., -1., -1., -1., -1., -1., -1., -1.,\n",
    "        -1., -1., -1., -1., -1., -1., -1., -1., -1., -1., -1., -1., -1.,\n",
    "        -1., -1., -1., -1., -1., -1.],\n",
    "       [-1., -1., -1., -1., -1., -1., -1., -1., -1., -1., -1., -1., -1.,\n",
    "        -1., -1., -1., -1., -1., -1., -1., -1., -1., -1., -1., -1., -1.,\n",
    "        -1., -1., -1., -1., -1., -1.],\n",
    "       [-1., -1., -1., -1., -1., -1., -1., -1., -1., -1., -1., -1., -1.,\n",
    "        -1., -1., -1., -1., -1., -1., -1., -1., -1., -1., -1., -1., -1.,\n",
    "        -1., -1., -1., -1., -1., -1.],\n",
    "       [-1., -1., -1., -1., -1., -1., -1., -1., -1., -1., -1., -1., -1.,\n",
    "        -1., -1., -1., -1., -1., -1., -1., -1., -1., -1., -1., -1., -1.,\n",
    "        -1., -1., -1., -1., -1., -1.],\n",
    "       [-1., -1., -1., -1., -1., -1., -1., -1., -1., -1., -1., -1., -1.,\n",
    "        -1., -1., -1., -1., -1., -1., -1., -1., -1., -1., -1., -1., -1.,\n",
    "        -1., -1., -1., -1., -1., -1.]]).type(torch.float).to(device)"
   ]
  },
  {
   "cell_type": "code",
   "execution_count": 3953,
   "id": "fbd511b8",
   "metadata": {},
   "outputs": [
    {
     "data": {
      "text/plain": [
       "<matplotlib.image.AxesImage at 0x13e32c3d0>"
      ]
     },
     "execution_count": 3953,
     "metadata": {},
     "output_type": "execute_result"
    },
    {
     "data": {
      "image/png": "[encoded data removed]",
      "text/plain": [
       "<Figure size 640x480 with 1 Axes>"
      ]
     },
     "metadata": {},
     "output_type": "display_data"
    }
   ],
   "source": [
    "plt.imshow(key)"
   ]
  },
  {
   "cell_type": "code",
   "execution_count": 3954,
   "id": "e4d8c3c2",
   "metadata": {},
   "outputs": [],
   "source": [
    "  key=torch.tensor([[-1., -1., -1., -1., -1., -1., -1., -1., -1., -1., -1., -1., -1.,\n",
    "        -1., -1., -1., -1., -1., -1., -1., -1., -1., -1., -1., -1., -1.,\n",
    "        -1., -1., -1., -1., -1., -1.],\n",
    "       [-1., -1., -1., -1., -1., -1., -1., -1., -1., -1., -1., -1., -1.,\n",
    "        -1., -1., -1., -1., -1., -1., -1., -1., -1., -1., -1., -1., -1.,\n",
    "        -1., -1., -1., -1., -1., -1.],\n",
    "       [-1., -1., -1., -1., -1., -1., -1., -1., -1., -1., -1., -1., -1.,\n",
    "        -1., -1., -1., -1., -1., -1., -1., -1., -1., -1., -1., -1., -1.,\n",
    "        -1., -1., -1., -1., -1., -1.],\n",
    "       [-1., -1., -1., -1., -1., -1., -1., -1., -1., -1., -1., -1., -1.,\n",
    "        -1., -1., -1., -1., -1., -1., -1., -1., -1., -1., -1., -1., -1.,\n",
    "        -1., -1., -1., -1., -1., -1.],\n",
    "       [-1., -1., -1., -1., -1., -1., -1., -1., -1., -1., -1., -1., -1.,\n",
    "        -1., -1., -1., -1., -1., -1., -1., -1., -1., -1., -1., -1., -1.,\n",
    "        -1., -1., -1., -1., -1., -1.],\n",
    "       [-1., -1., -1., -1., -1., -1., -1., -1., -1., -1., -1., -1., -1.,\n",
    "        -1., -1., -1.,  1., -1., -1., -1., -1., -1., -1., -1., -1., -1.,\n",
    "        -1., -1., -1., -1., -1., -1.],\n",
    "       [-1., -1., -1., -1., -1., -1., -1., -1., -1., -1., -1., -1.,  1.,\n",
    "         1.,  1.,  1., -1.,  1.,  1.,  1.,  1., -1., -1., -1., -1., -1.,\n",
    "        -1., -1., -1., -1., -1., -1.],\n",
    "       [-1., -1., -1., -1., -1., -1., -1., -1., -1., -1.,  1.,  1., -1.,\n",
    "        -1., -1., -1.,  1., -1., -1., -1., -1.,  1.,  1., -1., -1., -1.,\n",
    "        -1., -1., -1., -1., -1., -1.],\n",
    "       [-1., -1., -1., -1., -1., -1., -1., -1., -1.,  1.,  1., -1., -1.,\n",
    "         1.,  1.,  1.,  1.,  1.,  1.,  1., -1., -1.,  1.,  1., -1., -1.,\n",
    "        -1., -1., -1., -1., -1., -1.],\n",
    "       [-1., -1., -1., -1., -1., -1., -1., -1.,  1.,  1., -1.,  1.,  1.,\n",
    "         1.,  1.,  1., -1.,  1.,  1.,  1.,  1.,  1., -1.,  1.,  1., -1.,\n",
    "        -1., -1., -1., -1., -1., -1.],\n",
    "       [-1., -1., -1., -1., -1., -1., -1., -1.,  1., -1.,  1.,  1.,  1.,\n",
    "        -1., -1., -1., -1., -1., -1., -1.,  1.,  1.,  1., -1.,  1., -1.,\n",
    "        -1., -1., -1., -1., -1., -1.],\n",
    "       [-1., -1., -1., -1., -1., -1., -1.,  1., -1., -1.,  1.,  1., -1.,\n",
    "        -1., -1., -1.,  1., -1., -1., -1., -1.,  1.,  1., -1., -1.,  1.,\n",
    "        -1., -1., -1., -1., -1., -1.],\n",
    "       [-1., -1., -1., -1., -1., -1., -1.,  1., -1.,  1.,  1., -1., -1.,\n",
    "        -1.,  1.,  1., -1.,  1.,  1., -1., -1., -1.,  1.,  1., -1.,  1.,\n",
    "        -1., -1., -1., -1., -1., -1.],\n",
    "       [-1., -1., -1., -1., -1., -1., -1.,  1., -1.,  1.,  1., -1., -1.,\n",
    "         1., -1., -1.,  1., -1., -1.,  1., -1., -1.,  1.,  1., -1.,  1.,\n",
    "        -1., -1., -1., -1., -1., -1.],\n",
    "       [-1., -1., -1., -1., -1., -1., -1.,  1., -1.,  1.,  1., -1., -1.,\n",
    "         1., -1.,  1., -1.,  1., -1.,  1., -1., -1.,  1.,  1., -1.,  1.,\n",
    "        -1., -1., -1., -1., -1., -1.],\n",
    "       [-1., -1., -1., -1., -1., -1.,  1., -1.,  1.,  1., -1., -1.,  1.,\n",
    "        -1.,  1., -1., -1., -1.,  1., -1.,  1., -1., -1.,  1.,  1., -1.,\n",
    "         1., -1., -1., -1., -1., -1.],\n",
    "       [-1., -1., -1., -1., -1., -1., -1.,  1., -1.,  1.,  1., -1., -1.,\n",
    "         1., -1.,  1., -1.,  1., -1.,  1., -1., -1.,  1.,  1., -1.,  1.,\n",
    "        -1., -1., -1., -1., -1., -1.],\n",
    "       [-1., -1., -1., -1., -1., -1., -1.,  1., -1.,  1.,  1., -1., -1.,\n",
    "         1., -1., -1.,  1., -1., -1.,  1., -1., -1.,  1.,  1., -1.,  1.,\n",
    "        -1., -1., -1., -1., -1., -1.],\n",
    "       [-1., -1., -1., -1., -1., -1., -1.,  1., -1.,  1.,  1., -1., -1.,\n",
    "        -1.,  1.,  1., -1.,  1.,  1., -1., -1., -1.,  1.,  1., -1.,  1.,\n",
    "        -1., -1., -1., -1., -1., -1.],\n",
    "       [-1., -1., -1., -1., -1., -1., -1.,  1., -1., -1.,  1.,  1., -1.,\n",
    "        -1., -1., -1.,  1., -1., -1., -1., -1.,  1.,  1., -1., -1.,  1.,\n",
    "        -1., -1., -1., -1., -1., -1.],\n",
    "       [-1., -1., -1., -1., -1., -1., -1., -1.,  1., -1.,  1.,  1.,  1.,\n",
    "        -1., -1., -1., -1., -1., -1., -1.,  1.,  1.,  1., -1.,  1., -1.,\n",
    "        -1., -1., -1., -1., -1., -1.],\n",
    "       [-1., -1., -1., -1., -1., -1., -1., -1.,  1.,  1., -1.,  1.,  1.,\n",
    "         1.,  1.,  1., -1.,  1.,  1.,  1.,  1.,  1., -1.,  1.,  1., -1.,\n",
    "        -1., -1., -1., -1., -1., -1.],\n",
    "       [-1., -1., -1., -1., -1., -1., -1., -1., -1.,  1.,  1., -1., -1.,\n",
    "         1.,  1.,  1.,  1.,  1.,  1.,  1., -1., -1.,  1.,  1., -1., -1.,\n",
    "        -1., -1., -1., -1., -1., -1.],\n",
    "       [-1., -1., -1., -1., -1., -1., -1., -1., -1., -1.,  1.,  1., -1.,\n",
    "        -1., -1., -1.,  1., -1., -1., -1., -1.,  1.,  1., -1., -1., -1.,\n",
    "        -1., -1., -1., -1., -1., -1.],\n",
    "       [-1., -1., -1., -1., -1., -1., -1., -1., -1., -1., -1., -1.,  1.,\n",
    "         1.,  1.,  1., -1.,  1.,  1.,  1.,  1., -1., -1., -1., -1., -1.,\n",
    "        -1., -1., -1., -1., -1., -1.],\n",
    "       [-1., -1., -1., -1., -1., -1., -1., -1., -1., -1., -1., -1., -1.,\n",
    "        -1., -1., -1.,  1., -1., -1., -1., -1., -1., -1., -1., -1., -1.,\n",
    "        -1., -1., -1., -1., -1., -1.],\n",
    "       [-1., -1., -1., -1., -1., -1., -1., -1., -1., -1., -1., -1., -1.,\n",
    "        -1., -1., -1., -1., -1., -1., -1., -1., -1., -1., -1., -1., -1.,\n",
    "        -1., -1., -1., -1., -1., -1.],\n",
    "       [-1., -1., -1., -1., -1., -1., -1., -1., -1., -1., -1., -1., -1.,\n",
    "        -1., -1., -1., -1., -1., -1., -1., -1., -1., -1., -1., -1., -1.,\n",
    "        -1., -1., -1., -1., -1., -1.],\n",
    "       [-1., -1., -1., -1., -1., -1., -1., -1., -1., -1., -1., -1., -1.,\n",
    "        -1., -1., -1., -1., -1., -1., -1., -1., -1., -1., -1., -1., -1.,\n",
    "        -1., -1., -1., -1., -1., -1.],\n",
    "       [-1., -1., -1., -1., -1., -1., -1., -1., -1., -1., -1., -1., -1.,\n",
    "        -1., -1., -1., -1., -1., -1., -1., -1., -1., -1., -1., -1., -1.,\n",
    "        -1., -1., -1., -1., -1., -1.],\n",
    "       [-1., -1., -1., -1., -1., -1., -1., -1., -1., -1., -1., -1., -1.,\n",
    "        -1., -1., -1., -1., -1., -1., -1., -1., -1., -1., -1., -1., -1.,\n",
    "        -1., -1., -1., -1., -1., -1.],\n",
    "       [-1., -1., -1., -1., -1., -1., -1., -1., -1., -1., -1., -1., -1.,\n",
    "        -1., -1., -1., -1., -1., -1., -1., -1., -1., -1., -1., -1., -1.,\n",
    "        -1., -1., -1., -1., -1., -1.]]).type(torch.float).to(device)"
   ]
  },
  {
   "cell_type": "code",
   "execution_count": 3955,
   "id": "8b781b4a",
   "metadata": {},
   "outputs": [
    {
     "data": {
      "text/plain": [
       "<matplotlib.image.AxesImage at 0x14947add0>"
      ]
     },
     "execution_count": 3955,
     "metadata": {},
     "output_type": "execute_result"
    },
    {
     "data": {
      "image/png": "[encoded data removed]",
      "text/plain": [
       "<Figure size 640x480 with 1 Axes>"
      ]
     },
     "metadata": {},
     "output_type": "display_data"
    }
   ],
   "source": [
    "plt.imshow(key)"
   ]
  },
  {
   "cell_type": "code",
   "execution_count": 3923,
   "id": "1263af86",
   "metadata": {},
   "outputs": [],
   "source": [
    "# import torch\n",
    "# import torchvision.transforms.functional as TF\n",
    "\n",
    "# # -----------------------------\n",
    "# # Create Example Input Tensor\n",
    "# # -----------------------------\n",
    "# # Simulate an image of shape (3, 256, 256)\n",
    "# #input_tensor = torch.rand((3, 256, 256))  # Example input image\n",
    "\n",
    "# # -----------------------------\n",
    "# # Calculate Crop Parameters\n",
    "# # -----------------------------\n",
    "# target_size = 82  # Final size for height and width\n",
    "# current_size = 256  # Original size of the image\n",
    "\n",
    "# # Compute cropping boundaries\n",
    "# crop_margin = (current_size - target_size) // 2  # Amount to crop from each side\n",
    "\n",
    "# # -----------------------------\n",
    "# # Crop the Image\n",
    "# # -----------------------------\n",
    "# # Use torchvision's functional crop\n",
    "# cropped_tensor = TF.crop(abc, \n",
    "#                          top=crop_margin, \n",
    "#                          left=crop_margin, \n",
    "#                          height=target_size, \n",
    "#                          width=target_size)\n",
    "\n",
    "# # -----------------------------\n",
    "# # Output Results\n",
    "# # -----------------------------\n",
    "# print(\"Input tensor shape:\", abc.shape)   # Should be [3, 256, 256]\n",
    "# print(\"Cropped tensor shape:\", cropped_tensor.shape)  # Should be [3, 140, 140]\n"
   ]
  },
  {
   "cell_type": "code",
   "execution_count": 3924,
   "id": "07c2ee3d",
   "metadata": {},
   "outputs": [],
   "source": [
    "# import torch\n",
    "# import torchvision.transforms as transforms\n",
    "# from PIL import Image\n",
    "\n",
    "# # -----------------------------\n",
    "# # Example: Dummy Input Image Creation\n",
    "# # -----------------------------\n",
    "# # Create a random tensor image with shape (3, 140, 140)\n",
    "# #input_tensor = torch.rand((3, 140, 140))  # Simulating a cropped image\n",
    "\n",
    "# # -----------------------------\n",
    "# # Define Resize Transformation\n",
    "# # -----------------------------\n",
    "# # The Resize transform expects an image in PIL format or a tensor with shape (C, H, W)\n",
    "# resize_transform = transforms.Compose([\n",
    "#     transforms.ToPILImage(),                # Convert tensor to PIL Image\n",
    "#     transforms.Resize((256, 256)),          # Resize to 256x256\n",
    "#     transforms.ToTensor()                   # Convert back to torch Tensor\n",
    "# ])\n",
    "\n",
    "# # -----------------------------\n",
    "# # Apply the Transformation\n",
    "# # -----------------------------\n",
    "# # Input tensor: Shape [3, 140, 140]\n",
    "# output_tensor = resize_transform(cropped_tensor)\n",
    "\n",
    "# # -----------------------------\n",
    "# # Output Results\n",
    "# # -----------------------------\n",
    "# #print(\"Input tensor shape:\", input_tensor.shape)   # Should be [3, 140, 140]\n",
    "# print(\"Output tensor shape:\", output_tensor.shape) # Should be [3, 256, 256]\n",
    "# save_image(output_tensor,\"resized.png\")"
   ]
  },
  {
   "cell_type": "code",
   "execution_count": 3925,
   "id": "21bf502e",
   "metadata": {},
   "outputs": [],
   "source": [
    "# abc1=dct.dct_2d(output_tensor[:,:,:])"
   ]
  },
  {
   "cell_type": "code",
   "execution_count": 3926,
   "id": "94cee652",
   "metadata": {},
   "outputs": [],
   "source": [
    "# save_image(abc1,\"resized_w.png\")"
   ]
  },
  {
   "cell_type": "code",
   "execution_count": 3927,
   "id": "268d21cb",
   "metadata": {},
   "outputs": [],
   "source": [
    "abc1=dct.dct_2d(abc[:,:,:])"
   ]
  },
  {
   "cell_type": "code",
   "execution_count": 3928,
   "id": "bc90c09c",
   "metadata": {},
   "outputs": [],
   "source": [
    "save_image(abc,\"orig_watermark.png\")"
   ]
  },
  {
   "cell_type": "code",
   "execution_count": 3929,
   "id": "5f89d05b",
   "metadata": {},
   "outputs": [],
   "source": [
    "# abc1=torch.fft.fftshift(torch.fft.fft2(abc))"
   ]
  },
  {
   "cell_type": "code",
   "execution_count": 3930,
   "id": "ad0b1972",
   "metadata": {},
   "outputs": [],
   "source": [
    "save_image(abc1,\"watermark_no_crop.png\")"
   ]
  },
  {
   "cell_type": "code",
   "execution_count": 3931,
   "id": "a29d01ea",
   "metadata": {},
   "outputs": [
    {
     "data": {
      "text/plain": [
       "torch.Size([3, 256, 256])"
      ]
     },
     "execution_count": 3931,
     "metadata": {},
     "output_type": "execute_result"
    }
   ],
   "source": [
    "abc.shape"
   ]
  },
  {
   "cell_type": "code",
   "execution_count": 3932,
   "id": "e8dcb24e",
   "metadata": {},
   "outputs": [],
   "source": [
    "a=abc[:,:,:].sum()/(256*256*3)"
   ]
  },
  {
   "cell_type": "code",
   "execution_count": 3933,
   "id": "a342236c",
   "metadata": {},
   "outputs": [
    {
     "name": "stdout",
     "output_type": "stream",
     "text": [
      "tensor(0.4834)\n"
     ]
    }
   ],
   "source": [
    "print(a)"
   ]
  },
  {
   "cell_type": "code",
   "execution_count": null,
   "id": "d667fc3d",
   "metadata": {},
   "outputs": [],
   "source": []
  },
  {
   "cell_type": "code",
   "execution_count": 3934,
   "id": "0273cdbf",
   "metadata": {},
   "outputs": [],
   "source": [
    "abc = F.pad(abc, (87, 87, 87, 87), mode='replicate')"
   ]
  },
  {
   "cell_type": "code",
   "execution_count": 3935,
   "id": "7a04dc84",
   "metadata": {},
   "outputs": [],
   "source": [
    "# abc = F.pad(abc, (87, 87, 87, 87), mode='symmetric')"
   ]
  },
  {
   "cell_type": "code",
   "execution_count": 3936,
   "id": "974014d9",
   "metadata": {},
   "outputs": [],
   "source": [
    "# abc[:,0:58,:]=torch.tensor(a)"
   ]
  },
  {
   "cell_type": "code",
   "execution_count": 3937,
   "id": "a9705f18",
   "metadata": {},
   "outputs": [],
   "source": [
    "# abc[:,-58:,:]=torch.tensor(-a)"
   ]
  },
  {
   "cell_type": "code",
   "execution_count": 3938,
   "id": "9b755e2b",
   "metadata": {},
   "outputs": [],
   "source": [
    "# abc[:,:,0:58]=torch.tensor(a)"
   ]
  },
  {
   "cell_type": "code",
   "execution_count": 3939,
   "id": "44189f81",
   "metadata": {},
   "outputs": [],
   "source": [
    "# abc[:,:,-58:]=torch.tensor(a/2)"
   ]
  },
  {
   "cell_type": "code",
   "execution_count": 3940,
   "id": "44b9ce26",
   "metadata": {},
   "outputs": [],
   "source": [
    "save_image(abc[:,:,:],\"cropped_w.png\")"
   ]
  },
  {
   "cell_type": "code",
   "execution_count": 3941,
   "id": "d4fbf2c5",
   "metadata": {},
   "outputs": [
    {
     "data": {
      "text/plain": [
       "torch.Size([3, 430, 430])"
      ]
     },
     "execution_count": 3941,
     "metadata": {},
     "output_type": "execute_result"
    }
   ],
   "source": [
    "abc.shape"
   ]
  },
  {
   "cell_type": "code",
   "execution_count": 3942,
   "id": "9abfe620",
   "metadata": {},
   "outputs": [],
   "source": [
    "imgd=dct.dct_2d(abc[:,:])"
   ]
  },
  {
   "cell_type": "code",
   "execution_count": 3943,
   "id": "6f4bf7fb",
   "metadata": {},
   "outputs": [],
   "source": [
    "# imgd=torch.fft.fftshift(torch.fft.fft2(abc))"
   ]
  },
  {
   "cell_type": "code",
   "execution_count": 3944,
   "id": "841282ae",
   "metadata": {},
   "outputs": [],
   "source": [
    "save_image(imgd,\"imgdminpad.png\")"
   ]
  },
  {
   "cell_type": "code",
   "execution_count": 3945,
   "id": "05fc79ac",
   "metadata": {},
   "outputs": [
    {
     "data": {
      "text/plain": [
       "torch.Size([16, 256, 256])"
      ]
     },
     "execution_count": 3945,
     "metadata": {},
     "output_type": "execute_result"
    }
   ],
   "source": [
    "patch.shape"
   ]
  },
  {
   "cell_type": "code",
   "execution_count": 3946,
   "id": "f4535f97",
   "metadata": {},
   "outputs": [
    {
     "data": {
      "text/plain": [
       "tensor([0.9962, 0.9963, 0.9964,  ..., 1.0036, 1.0037, 1.0038])"
      ]
     },
     "execution_count": 3946,
     "metadata": {},
     "output_type": "execute_result"
    }
   ],
   "source": [
    "image.unique()"
   ]
  },
  {
   "cell_type": "code",
   "execution_count": 3947,
   "id": "742cebeb",
   "metadata": {},
   "outputs": [
    {
     "data": {
      "text/plain": [
       "torch.Size([2, 1, 256, 256])"
      ]
     },
     "execution_count": 3947,
     "metadata": {},
     "output_type": "execute_result"
    }
   ],
   "source": [
    "image.unsqueeze(1).shape"
   ]
  },
  {
   "cell_type": "code",
   "execution_count": 3332,
   "id": "940e353b",
   "metadata": {},
   "outputs": [
    {
     "data": {
      "text/plain": [
       "torch.Size([2, 256, 256])"
      ]
     },
     "execution_count": 3332,
     "metadata": {},
     "output_type": "execute_result"
    }
   ],
   "source": [
    "image.shape"
   ]
  },
  {
   "cell_type": "code",
   "execution_count": 3226,
   "id": "98652623",
   "metadata": {},
   "outputs": [],
   "source": [
    "x=dct.dct_2d(image)"
   ]
  },
  {
   "cell_type": "code",
   "execution_count": 3227,
   "id": "42910b1d",
   "metadata": {},
   "outputs": [],
   "source": [
    "save_image(x[:,:,:],\"out.png\")"
   ]
  },
  {
   "cell_type": "code",
   "execution_count": 3156,
   "id": "ae4cfa1c",
   "metadata": {},
   "outputs": [
    {
     "data": {
      "text/plain": [
       "tensor([-3.7998e-04, -3.6448e-04, -3.5268e-04,  ...,  1.0002e+00,\n",
       "         1.0002e+00,  2.6214e+05])"
      ]
     },
     "execution_count": 3156,
     "metadata": {},
     "output_type": "execute_result"
    }
   ],
   "source": [
    "x.unique()"
   ]
  },
  {
   "cell_type": "code",
   "execution_count": 3157,
   "id": "b16241d4",
   "metadata": {},
   "outputs": [],
   "source": [
    "patch=patch.repeat(2,1,1)"
   ]
  },
  {
   "cell_type": "code",
   "execution_count": 3158,
   "id": "3191fe32",
   "metadata": {},
   "outputs": [
    {
     "data": {
      "text/plain": [
       "torch.Size([16, 256, 256])"
      ]
     },
     "execution_count": 3158,
     "metadata": {},
     "output_type": "execute_result"
    }
   ],
   "source": [
    "patch.shape"
   ]
  },
  {
   "cell_type": "markdown",
   "id": "d3723986",
   "metadata": {},
   "source": [
    "## image.unique()"
   ]
  },
  {
   "cell_type": "code",
   "execution_count": 3064,
   "id": "325bc3db",
   "metadata": {},
   "outputs": [
    {
     "data": {
      "text/plain": [
       "tensor(1.)"
      ]
     },
     "execution_count": 3064,
     "metadata": {},
     "output_type": "execute_result"
    }
   ],
   "source": [
    "patch.max()"
   ]
  },
  {
   "cell_type": "code",
   "execution_count": 3065,
   "id": "89531f80",
   "metadata": {},
   "outputs": [],
   "source": [
    "x[1,0,0]=1"
   ]
  },
  {
   "cell_type": "code",
   "execution_count": 61,
   "id": "4e8b9e59",
   "metadata": {},
   "outputs": [
    {
     "data": {
      "text/plain": [
       "tensor([0., 1.])"
      ]
     },
     "execution_count": 61,
     "metadata": {},
     "output_type": "execute_result"
    }
   ],
   "source": [
    "patch.unique()"
   ]
  },
  {
   "cell_type": "code",
   "execution_count": 49,
   "id": "b8e95ad1",
   "metadata": {},
   "outputs": [],
   "source": [
    "import torch.nn.functional as F"
   ]
  },
  {
   "cell_type": "code",
   "execution_count": 67,
   "id": "0585499f",
   "metadata": {},
   "outputs": [
    {
     "data": {
      "text/plain": [
       "tensor(1.5262e-05)"
      ]
     },
     "execution_count": 67,
     "metadata": {},
     "output_type": "execute_result"
    }
   ],
   "source": [
    "F.mse_loss(, x, reduction='mean')"
   ]
  },
  {
   "cell_type": "code",
   "execution_count": null,
   "id": "52863330",
   "metadata": {},
   "outputs": [],
   "source": [
    "def get_watermarking_pattern( image,batch_size,num_channels_latents , height, width,w_radius,w_channel, device):\n",
    "    gt_init = torch.ones((batch_size,num_channels_latents , height, width)).to(device)\n",
    "    gt_patch=gt_init\n",
    "    gt_patch_tmp = copy.deepcopy(gt_patch)\n",
    "    gt_patch=gt_patch*0\n",
    "    for i in range(w_radius, 0, -1):\n",
    "        tmp_mask = circle_mask(gt_init.shape[-1], r=i)\n",
    "        tmp_mask = torch.tensor(tmp_mask).to(device)            \n",
    "        for j in range(gt_patch.shape[1]):\n",
    "            if i % 6 == 0 or i % 6 == 1 or i % 6 == 2:  \n",
    "                gt_patch[:, j, tmp_mask] = 1\n",
    "            else: \n",
    "                gt_patch[:, j, tmp_mask] = 0\n",
    "                \n",
    "    init_latents_w=image.to(device)\n",
    "    watermarking_mask = torch.zeros(init_latents_w.shape, dtype=torch.bool).to(device)\n",
    "    np_mask = circle_mask(init_latents_w.shape[-1], r=w_radius)\n",
    "    torch_mask = torch.tensor(np_mask).to(device)\n",
    "    torch_mask = torch_mask.repeat(2,1,1)\n",
    "    watermarking_mask[:,:,w_channel] = torch_mask\n",
    "    init_latents_w_fft = dct.dct_2d(init_latents_w)\n",
    "    init_latents_w_fft[watermarking_mask] = gt_patch[watermarking_mask].clone()\n",
    "    init_latents_w = dct.idct_2d(init_latents_w_fft)  \n",
    "#    xyz=dct.dct_2d(init_latents_w[0,3,:,:])\n",
    "    save_image(init_latents_w[0,3,:,:],\"latent.png\")\n",
    "    save_image(gt_patch[0,0,:,:],\"gt_patch.png\")\n",
    "#     save_image(xyz.real,\"xyz_image.png\")\n",
    "    \n",
    "    return init_latents_w[:,3,:,:], gt_patch[0,0,:,:]"
   ]
  },
  {
   "cell_type": "code",
   "execution_count": null,
   "id": "49e46c9d",
   "metadata": {},
   "outputs": [],
   "source": []
  },
  {
   "cell_type": "code",
   "execution_count": null,
   "id": "3ee7d975",
   "metadata": {},
   "outputs": [
    {
     "name": "stdout",
     "output_type": "stream",
     "text": [
      "(256, 256)\n",
      "Log-Polar L2 Error: 33711.713795059426\n"
     ]
    }
   ],
   "source": [
    "import cv2\n",
    "import numpy as np\n",
    "from matplotlib import pyplot as plt\n",
    "\n",
    "def log_polar_transform(image, center=None, M=None):\n",
    "    \"\"\"\n",
    "    Applies the log-polar transform to an image.\n",
    "    Args:\n",
    "        image: Input image.\n",
    "        center: Center of the log-polar transform.\n",
    "        M: Magnification factor for the log-polar transform.\n",
    "    Returns:\n",
    "        Transformed image in log-polar coordinates.\n",
    "    \"\"\"\n",
    "    if center is None:\n",
    "        center = (image.shape[1] // 2, image.shape[0] // 2)\n",
    "    if M is None:\n",
    "        M = 40  # Magnification factor (tune this parameter if necessary)\n",
    "    \n",
    "    # Perform the log-polar transform\n",
    "    log_polar_image = cv2.logPolar(\n",
    "        image, center, M, cv2.INTER_LINEAR + cv2.WARP_FILL_OUTLIERS\n",
    "    )\n",
    "    return log_polar_image\n",
    "\n",
    "def compute_log_polar_error(original, detected):\n",
    "    \"\"\"\n",
    "    Computes the error between the log-polar transformed images.\n",
    "    Args:\n",
    "        original: Original watermark image (full).\n",
    "        detected: Detected watermark image (cropped).\n",
    "    Returns:\n",
    "        Error value (L2 loss).\n",
    "    \"\"\"\n",
    "    # Convert images to grayscale if needed\n",
    "    if len(original.shape) == 3:\n",
    "        original = cv2.cvtColor(original, cv2.COLOR_BGR2GRAY)\n",
    "    if len(detected.shape) == 3:\n",
    "        detected = cv2.cvtColor(detected, cv2.COLOR_BGR2GRAY)\n",
    "    \n",
    "    # Step 1: Apply log-polar transform\n",
    "    center_original = (original.shape[1] // 2, original.shape[0] // 2)\n",
    "    center_detected = (detected.shape[1] // 2, detected.shape[0] // 2)\n",
    "\n",
    "    log_polar_original = log_polar_transform(original, center=center_original)\n",
    "    log_polar_detected = log_polar_transform(detected, center=center_detected)\n",
    "\n",
    "    # Step 2: Resize the detected log-polar image to match the original\n",
    "    log_polar_detected_resized = cv2.resize(\n",
    "        log_polar_detected, (log_polar_original.shape[1], log_polar_original.shape[0])\n",
    "    )\n",
    "\n",
    "    # Step 3: Compute the L2 error (overlapping part)\n",
    "    error = np.linalg.norm(log_polar_original - log_polar_detected_resized)\n",
    "\n",
    "    return error, log_polar_original, log_polar_detected_resized\n",
    "\n",
    "# Load the images\n",
    "original_path = \"/Users/navtegh/Documents/Watermarking-diffusion-models/original watermark.png\"\n",
    "detected_path = \"/Users/navtegh/Documents/Watermarking-diffusion-models/detected watermark.png\"\n",
    "\n",
    "original_image = cv2.imread(original_path, cv2.IMREAD_GRAYSCALE)\n",
    "print(original_image.shape)\n",
    "detected_image = cv2.imread(detected_path, cv2.IMREAD_GRAYSCALE)\n",
    "\n",
    "# Compute the log-polar error\n",
    "error, log_polar_original, log_polar_detected_resized = compute_log_polar_error(\n",
    "    original_image, detected_image\n",
    ")\n",
    "\n",
    "# Display Results\n",
    "print(f\"Log-Polar L2 Error: {error}\")\n",
    "\n",
    "plt.figure(figsize=(10, 5))\n",
    "plt.subplot(1, 3, 1)\n",
    "plt.title(\"Original Image\")\n",
    "plt.imshow(original_image, cmap='gray')\n",
    "\n",
    "plt.subplot(1, 3, 2)\n",
    "plt.title(\"Detected Image\")\n",
    "plt.imshow(detected_image, cmap='gray')\n",
    "\n",
    "plt.subplot(1, 3, 3)\n",
    "plt.title(\"Log-Polar Difference\")\n",
    "plt.imshow(np.abs(log_polar_original - log_polar_detected_resized), cmap='gray')\n",
    "\n",
    "plt.tight_layout()\n",
    "plt.show()\n"
   ]
  },
  {
   "cell_type": "code",
   "execution_count": null,
   "id": "4e230800",
   "metadata": {},
   "outputs": [],
   "source": [
    "def get_watermarking_pattern( image,batch_size,num_channels_latents , height, width,w_radius,w_channel, device):\n",
    "    gt_init = (image).to(device)\n",
    "    gt_patch=dct.dct_2d(gt_init/255)\n",
    "    gt_patch_tmp = copy.deepcopy(gt_patch)\n",
    "#     gt_patch=gt_patch*0\n",
    "    for i in range(w_radius, 0, -1):\n",
    "        tmp_mask = circle_mask(gt_init.shape[-1], r=i)\n",
    "        tmp_mask = torch.tensor(tmp_mask).to(device)\n",
    "        for j in range(gt_patch.shape[1]):\n",
    "            if i % 6 == 0 or i % 6 == 1 or i % 6 == 2:  \n",
    "                gt_patch[:, j, tmp_mask] = torch.tensor(1, dtype=torch.uint8)\n",
    "            else: \n",
    "                gt_patch[:, j, tmp_mask] = torch.tensor(0, dtype=torch.uint8)\n",
    "                \n",
    "#     init_latents_w=image.to(device)\n",
    "#     watermarking_mask = torch.zeros(init_latents_w.shape, dtype=torch.bool).to(device)\n",
    "#     np_mask = circle_mask(init_latents_w.shape[-1], r=w_radius)\n",
    "#     torch_mask = torch.tensor(np_mask).to(device)\n",
    "#     torch_mask = torch_mask.repeat(2,1,1)\n",
    "#     watermarking_mask[:,:,w_channel] = torch_mask\n",
    "#     init_latents_w_fft = dct.dct_2d(init_latents_w)\n",
    "#     init_latents_w_fft[watermarking_mask] = gt_patch[watermarking_mask].clone()\n",
    "#     init_latents_w = dct.idct_2d(init_latents_w_fft)  \n",
    "# #    xyz=dct.dct_2d(init_latents_w[0,3,:,:])\n",
    "#     save_image(init_latents_w[0,3,:,:],\"latent.png\")\n",
    "    save_image(gt_patch[0,:,:,:],\"gt_patch.png\")\n",
    "    xya=dct.idct_2d(gt_patch)\n",
    "    save_image(xya[0,:,:,:],\"xyz.png\")\n",
    "#     save_image(xyz.real,\"xyz_image.png\")\n",
    "    \n",
    "    return 0"
   ]
  },
  {
   "cell_type": "code",
   "execution_count": 333,
   "id": "5af32fb8",
   "metadata": {},
   "outputs": [],
   "source": [
    "img_w = read_image('/Users/navtegh/Documents/Watermarking-diffusion-models/imgd0.png')"
   ]
  },
  {
   "cell_type": "code",
   "execution_count": null,
   "id": "f24f08b8",
   "metadata": {},
   "outputs": [],
   "source": []
  },
  {
   "cell_type": "code",
   "execution_count": 334,
   "id": "6ffc34d7",
   "metadata": {},
   "outputs": [],
   "source": [
    "img_w1=img_w[0,:,:]/255"
   ]
  },
  {
   "cell_type": "code",
   "execution_count": 335,
   "id": "31e8c4c4",
   "metadata": {},
   "outputs": [],
   "source": [
    "img_w1=img_w1.unsqueeze(0)"
   ]
  },
  {
   "cell_type": "code",
   "execution_count": 336,
   "id": "a179fdc5",
   "metadata": {},
   "outputs": [],
   "source": [
    "img_w1=img_w1.repeat(4,1,1)"
   ]
  },
  {
   "cell_type": "code",
   "execution_count": 337,
   "id": "1f9c0c47",
   "metadata": {},
   "outputs": [
    {
     "data": {
      "text/plain": [
       "torch.Size([4, 256, 256])"
      ]
     },
     "execution_count": 337,
     "metadata": {},
     "output_type": "execute_result"
    }
   ],
   "source": [
    "img_w1.shape"
   ]
  },
  {
   "cell_type": "code",
   "execution_count": 345,
   "id": "8ffb8f8b",
   "metadata": {},
   "outputs": [],
   "source": [
    "def get_watermarking_mask(image,w_radius, device):\n",
    "    gt_init = (image).to(device)\n",
    "    gt_patch=gt_init\n",
    "    gt_init=gt_init*0\n",
    "    tmp_mask = circle_mask(256, r=w_radius)\n",
    "    tmp_mask = torch.tensor(tmp_mask).to(device)\n",
    "    gt_init[:,tmp_mask] = gt_patch[:,tmp_mask]\n",
    "    save_image(gt_init[0,:,:],\"mask.png\")\n",
    "    return gt_init"
   ]
  },
  {
   "cell_type": "code",
   "execution_count": 347,
   "id": "5db71082",
   "metadata": {},
   "outputs": [],
   "source": [
    "mask=get_watermarking_mask(img_w1,14,device)"
   ]
  },
  {
   "cell_type": "code",
   "execution_count": 4007,
   "id": "a0f3a002",
   "metadata": {},
   "outputs": [],
   "source": [
    "def get_key(batch,size,w_radius, device):\n",
    "    gt_init =  torch.zeros((batch, size, size))\n",
    "    gt_patch = gt_init\n",
    "    for i in range(w_radius, 0, -1):\n",
    "        tmp_mask = circle_mask(gt_init.shape[-1], r=i)\n",
    "        tmp_mask = torch.tensor(tmp_mask).to(device)\n",
    "        if i % 6 == 0 or i % 6 == 1 or i % 6 == 2:  \n",
    "            gt_patch[:, tmp_mask] = torch.tensor(0, dtype=torch.uint8)\n",
    "        else: \n",
    "            gt_patch[:, tmp_mask] = torch.tensor(1, dtype=torch.uint8)\n",
    "    gt_patch=gt_patch[:,-35:,-34:]\n",
    "    gt_patch=gt_patch[:,:-3,:-2]\n",
    "    return gt_patch"
   ]
  },
  {
   "cell_type": "code",
   "execution_count": 4008,
   "id": "daafccb6",
   "metadata": {},
   "outputs": [],
   "source": [
    "key=get_key(16,256,15,device)"
   ]
  },
  {
   "cell_type": "code",
   "execution_count": 4009,
   "id": "989a792b",
   "metadata": {},
   "outputs": [
    {
     "data": {
      "text/plain": [
       "<matplotlib.image.AxesImage at 0x149b31b50>"
      ]
     },
     "execution_count": 4009,
     "metadata": {},
     "output_type": "execute_result"
    },
    {
     "data": {
      "image/png": "[encoded data removed]",
      "text/plain": [
       "<Figure size 640x480 with 1 Axes>"
      ]
     },
     "metadata": {},
     "output_type": "display_data"
    }
   ],
   "source": [
    "plt.imshow(key[0,:,:])"
   ]
  },
  {
   "cell_type": "code",
   "execution_count": 4045,
   "id": "2fac0162",
   "metadata": {},
   "outputs": [
    {
     "data": {
      "text/plain": [
       "torch.Size([16, 1, 256, 256])"
      ]
     },
     "execution_count": 4045,
     "metadata": {},
     "output_type": "execute_result"
    }
   ],
   "source": [
    "key.shape"
   ]
  },
  {
   "cell_type": "code",
   "execution_count": 4046,
   "id": "efcb4c19",
   "metadata": {},
   "outputs": [],
   "source": [
    "import torch.nn.functional as F"
   ]
  },
  {
   "cell_type": "code",
   "execution_count": 4029,
   "id": "f65418fe",
   "metadata": {},
   "outputs": [],
   "source": [
    "key=key.unsqueeze(1)"
   ]
  },
  {
   "cell_type": "code",
   "execution_count": null,
   "id": "967f9aa6",
   "metadata": {},
   "outputs": [],
   "source": []
  },
  {
   "cell_type": "code",
   "execution_count": 4031,
   "id": "e2e0b4a4",
   "metadata": {},
   "outputs": [],
   "source": [
    "key=key.repeat(1,1,8,8)"
   ]
  },
  {
   "cell_type": "code",
   "execution_count": null,
   "id": "8f7be8c1",
   "metadata": {},
   "outputs": [],
   "source": []
  },
  {
   "cell_type": "code",
   "execution_count": 4032,
   "id": "6f23e820",
   "metadata": {},
   "outputs": [
    {
     "data": {
      "text/plain": [
       "torch.Size([16, 1, 256, 256])"
      ]
     },
     "execution_count": 4032,
     "metadata": {},
     "output_type": "execute_result"
    }
   ],
   "source": [
    "key.shape"
   ]
  },
  {
   "cell_type": "code",
   "execution_count": 4047,
   "id": "9eff0334",
   "metadata": {},
   "outputs": [],
   "source": [
    "patches = F.unfold(key, kernel_size=32, stride=32)"
   ]
  },
  {
   "cell_type": "code",
   "execution_count": 4048,
   "id": "49ca4133",
   "metadata": {},
   "outputs": [
    {
     "data": {
      "text/plain": [
       "torch.Size([16, 1024, 64])"
      ]
     },
     "execution_count": 4048,
     "metadata": {},
     "output_type": "execute_result"
    }
   ],
   "source": [
    "patches.shape"
   ]
  },
  {
   "cell_type": "code",
   "execution_count": 4049,
   "id": "8752c38f",
   "metadata": {},
   "outputs": [
    {
     "data": {
      "text/plain": [
       "<matplotlib.image.AxesImage at 0x14f132cd0>"
      ]
     },
     "execution_count": 4049,
     "metadata": {},
     "output_type": "execute_result"
    },
    {
     "data": {
      "image/png": "[encoded data removed]",
      "text/plain": [
       "<Figure size 640x480 with 1 Axes>"
      ]
     },
     "metadata": {},
     "output_type": "display_data"
    }
   ],
   "source": [
    "plt.imshow(patches[0,:,:])"
   ]
  },
  {
   "cell_type": "code",
   "execution_count": 4050,
   "id": "a86d4829",
   "metadata": {},
   "outputs": [],
   "source": [
    "patches = patches.view(16, 1, 32, 32, -1)"
   ]
  },
  {
   "cell_type": "code",
   "execution_count": 4037,
   "id": "9f8178ac",
   "metadata": {},
   "outputs": [
    {
     "data": {
      "text/plain": [
       "torch.Size([16, 1, 32, 32, 64])"
      ]
     },
     "execution_count": 4037,
     "metadata": {},
     "output_type": "execute_result"
    }
   ],
   "source": [
    "patches.shape"
   ]
  },
  {
   "cell_type": "code",
   "execution_count": 4052,
   "id": "effd3526",
   "metadata": {},
   "outputs": [
    {
     "data": {
      "text/plain": [
       "<matplotlib.image.AxesImage at 0x14f22e710>"
      ]
     },
     "execution_count": 4052,
     "metadata": {},
     "output_type": "execute_result"
    },
    {
     "data": {
      "image/png": "[encoded data removed]",
      "text/plain": [
       "<Figure size 640x480 with 1 Axes>"
      ]
     },
     "metadata": {},
     "output_type": "display_data"
    }
   ],
   "source": [
    "plt.imshow(patches[0,0,:,:,15])"
   ]
  },
  {
   "cell_type": "code",
   "execution_count": 4038,
   "id": "3edf1a13",
   "metadata": {},
   "outputs": [],
   "source": [
    "patches_mean = patches.mean(dim=-1)"
   ]
  },
  {
   "cell_type": "code",
   "execution_count": 4039,
   "id": "f9e398d1",
   "metadata": {},
   "outputs": [
    {
     "data": {
      "text/plain": [
       "torch.Size([16, 1, 32, 32])"
      ]
     },
     "execution_count": 4039,
     "metadata": {},
     "output_type": "execute_result"
    }
   ],
   "source": [
    "patches_mean.shape"
   ]
  },
  {
   "cell_type": "code",
   "execution_count": 4042,
   "id": "f23e94ee",
   "metadata": {},
   "outputs": [
    {
     "data": {
      "text/plain": [
       "<matplotlib.image.AxesImage at 0x14f06ffd0>"
      ]
     },
     "execution_count": 4042,
     "metadata": {},
     "output_type": "execute_result"
    },
    {
     "data": {
      "image/png": "[encoded data removed]",
      "text/plain": [
       "<Figure size 640x480 with 1 Axes>"
      ]
     },
     "metadata": {},
     "output_type": "display_data"
    }
   ],
   "source": [
    "plt.imshow(patches_mean[0,0,:,:])"
   ]
  },
  {
   "cell_type": "code",
   "execution_count": 4013,
   "id": "bb033d94",
   "metadata": {},
   "outputs": [],
   "source": [
    "abc=key[0,:,:]"
   ]
  },
  {
   "cell_type": "code",
   "execution_count": 4015,
   "id": "43c316a5",
   "metadata": {},
   "outputs": [],
   "source": [
    "import numpy as np"
   ]
  },
  {
   "cell_type": "code",
   "execution_count": 4016,
   "id": "997b574c",
   "metadata": {},
   "outputs": [],
   "source": [
    "np.set_printoptions(threshold=np.inf)"
   ]
  },
  {
   "cell_type": "code",
   "execution_count": 4019,
   "id": "ab316391",
   "metadata": {},
   "outputs": [],
   "source": [
    "a=np.asarray(abc)"
   ]
  },
  {
   "cell_type": "code",
   "execution_count": 4021,
   "id": "dd9116a0",
   "metadata": {},
   "outputs": [],
   "source": [
    "b=2*a-1"
   ]
  },
  {
   "cell_type": "code",
   "execution_count": 4022,
   "id": "8f726239",
   "metadata": {},
   "outputs": [
    {
     "name": "stdout",
     "output_type": "stream",
     "text": [
      "[[-1. -1. -1. -1. -1. -1. -1. -1. -1. -1. -1. -1. -1. -1. -1. -1.  1. -1.\n",
      "  -1. -1. -1. -1. -1. -1. -1. -1. -1. -1. -1. -1. -1. -1.]\n",
      " [-1. -1. -1. -1. -1. -1. -1. -1. -1. -1. -1.  1.  1.  1.  1.  1. -1.  1.\n",
      "   1.  1.  1.  1. -1. -1. -1. -1. -1. -1. -1. -1. -1. -1.]\n",
      " [-1. -1. -1. -1. -1. -1. -1. -1. -1.  1.  1. -1. -1. -1. -1. -1. -1. -1.\n",
      "  -1. -1. -1. -1.  1.  1. -1. -1. -1. -1. -1. -1. -1. -1.]\n",
      " [-1. -1. -1. -1. -1. -1. -1.  1.  1. -1. -1. -1. -1. -1. -1. -1. -1. -1.\n",
      "  -1. -1. -1. -1. -1. -1.  1.  1. -1. -1. -1. -1. -1. -1.]\n",
      " [-1. -1. -1. -1. -1. -1.  1.  1. -1. -1. -1. -1. -1. -1. -1. -1.  1. -1.\n",
      "  -1. -1. -1. -1. -1. -1. -1.  1.  1. -1. -1. -1. -1. -1.]\n",
      " [-1. -1. -1. -1. -1.  1.  1. -1. -1. -1. -1. -1.  1.  1.  1.  1.  1.  1.\n",
      "   1.  1.  1. -1. -1. -1. -1. -1.  1.  1. -1. -1. -1. -1.]\n",
      " [-1. -1. -1. -1.  1.  1. -1. -1. -1. -1.  1.  1.  1.  1.  1.  1.  1.  1.\n",
      "   1.  1.  1.  1.  1. -1. -1. -1. -1.  1.  1. -1. -1. -1.]\n",
      " [-1. -1. -1. -1.  1. -1. -1. -1. -1.  1.  1.  1.  1.  1.  1.  1. -1.  1.\n",
      "   1.  1.  1.  1.  1.  1. -1. -1. -1. -1.  1. -1. -1. -1.]\n",
      " [-1. -1. -1.  1. -1. -1. -1. -1.  1.  1.  1.  1.  1. -1. -1. -1. -1. -1.\n",
      "  -1. -1.  1.  1.  1.  1.  1. -1. -1. -1. -1.  1. -1. -1.]\n",
      " [-1. -1. -1.  1. -1. -1. -1.  1.  1.  1.  1. -1. -1. -1. -1. -1. -1. -1.\n",
      "  -1. -1. -1. -1.  1.  1.  1.  1. -1. -1. -1.  1. -1. -1.]\n",
      " [-1. -1.  1. -1. -1. -1. -1.  1.  1.  1. -1. -1. -1. -1. -1. -1.  1. -1.\n",
      "  -1. -1. -1. -1. -1.  1.  1.  1. -1. -1. -1. -1.  1. -1.]\n",
      " [-1. -1.  1. -1. -1. -1.  1.  1.  1.  1. -1. -1. -1.  1.  1.  1.  1.  1.\n",
      "   1.  1. -1. -1. -1.  1.  1.  1.  1. -1. -1. -1.  1. -1.]\n",
      " [-1. -1.  1. -1. -1. -1.  1.  1.  1. -1. -1. -1.  1.  1.  1.  1.  1.  1.\n",
      "   1.  1.  1. -1. -1. -1.  1.  1.  1. -1. -1. -1.  1. -1.]\n",
      " [-1. -1.  1. -1. -1. -1.  1.  1.  1. -1. -1. -1.  1.  1.  1.  1. -1.  1.\n",
      "   1.  1.  1. -1. -1. -1.  1.  1.  1. -1. -1. -1.  1. -1.]\n",
      " [-1. -1.  1. -1. -1. -1.  1.  1.  1. -1. -1. -1.  1.  1.  1. -1. -1. -1.\n",
      "   1.  1.  1. -1. -1. -1.  1.  1.  1. -1. -1. -1.  1. -1.]\n",
      " [-1.  1. -1. -1. -1.  1.  1.  1. -1. -1. -1.  1.  1.  1. -1. -1. -1. -1.\n",
      "  -1.  1.  1.  1. -1. -1. -1.  1.  1.  1. -1. -1. -1.  1.]\n",
      " [-1. -1.  1. -1. -1. -1.  1.  1.  1. -1. -1. -1.  1.  1.  1. -1. -1. -1.\n",
      "   1.  1.  1. -1. -1. -1.  1.  1.  1. -1. -1. -1.  1. -1.]\n",
      " [-1. -1.  1. -1. -1. -1.  1.  1.  1. -1. -1. -1.  1.  1.  1.  1. -1.  1.\n",
      "   1.  1.  1. -1. -1. -1.  1.  1.  1. -1. -1. -1.  1. -1.]\n",
      " [-1. -1.  1. -1. -1. -1.  1.  1.  1. -1. -1. -1.  1.  1.  1.  1.  1.  1.\n",
      "   1.  1.  1. -1. -1. -1.  1.  1.  1. -1. -1. -1.  1. -1.]\n",
      " [-1. -1.  1. -1. -1. -1.  1.  1.  1.  1. -1. -1. -1.  1.  1.  1.  1.  1.\n",
      "   1.  1. -1. -1. -1.  1.  1.  1.  1. -1. -1. -1.  1. -1.]\n",
      " [-1. -1.  1. -1. -1. -1. -1.  1.  1.  1. -1. -1. -1. -1. -1. -1.  1. -1.\n",
      "  -1. -1. -1. -1. -1.  1.  1.  1. -1. -1. -1. -1.  1. -1.]\n",
      " [-1. -1. -1.  1. -1. -1. -1.  1.  1.  1.  1. -1. -1. -1. -1. -1. -1. -1.\n",
      "  -1. -1. -1. -1.  1.  1.  1.  1. -1. -1. -1.  1. -1. -1.]\n",
      " [-1. -1. -1.  1. -1. -1. -1. -1.  1.  1.  1.  1.  1. -1. -1. -1. -1. -1.\n",
      "  -1. -1.  1.  1.  1.  1.  1. -1. -1. -1. -1.  1. -1. -1.]\n",
      " [-1. -1. -1. -1.  1. -1. -1. -1. -1.  1.  1.  1.  1.  1.  1.  1. -1.  1.\n",
      "   1.  1.  1.  1.  1.  1. -1. -1. -1. -1.  1. -1. -1. -1.]\n",
      " [-1. -1. -1. -1.  1.  1. -1. -1. -1. -1.  1.  1.  1.  1.  1.  1.  1.  1.\n",
      "   1.  1.  1.  1.  1. -1. -1. -1. -1.  1.  1. -1. -1. -1.]\n",
      " [-1. -1. -1. -1. -1.  1.  1. -1. -1. -1. -1. -1.  1.  1.  1.  1.  1.  1.\n",
      "   1.  1.  1. -1. -1. -1. -1. -1.  1.  1. -1. -1. -1. -1.]\n",
      " [-1. -1. -1. -1. -1. -1.  1.  1. -1. -1. -1. -1. -1. -1. -1. -1.  1. -1.\n",
      "  -1. -1. -1. -1. -1. -1. -1.  1.  1. -1. -1. -1. -1. -1.]\n",
      " [-1. -1. -1. -1. -1. -1. -1.  1.  1. -1. -1. -1. -1. -1. -1. -1. -1. -1.\n",
      "  -1. -1. -1. -1. -1. -1.  1.  1. -1. -1. -1. -1. -1. -1.]\n",
      " [-1. -1. -1. -1. -1. -1. -1. -1. -1.  1.  1. -1. -1. -1. -1. -1. -1. -1.\n",
      "  -1. -1. -1. -1.  1.  1. -1. -1. -1. -1. -1. -1. -1. -1.]\n",
      " [-1. -1. -1. -1. -1. -1. -1. -1. -1. -1. -1.  1.  1.  1.  1.  1. -1.  1.\n",
      "   1.  1.  1.  1. -1. -1. -1. -1. -1. -1. -1. -1. -1. -1.]\n",
      " [-1. -1. -1. -1. -1. -1. -1. -1. -1. -1. -1. -1. -1. -1. -1. -1.  1. -1.\n",
      "  -1. -1. -1. -1. -1. -1. -1. -1. -1. -1. -1. -1. -1. -1.]\n",
      " [-1. -1. -1. -1. -1. -1. -1. -1. -1. -1. -1. -1. -1. -1. -1. -1. -1. -1.\n",
      "  -1. -1. -1. -1. -1. -1. -1. -1. -1. -1. -1. -1. -1. -1.]]\n"
     ]
    }
   ],
   "source": [
    "print(b)"
   ]
  },
  {
   "cell_type": "code",
   "execution_count": 4023,
   "id": "996b4580",
   "metadata": {},
   "outputs": [],
   "source": [
    "np.savetxt(\"key.txt\", b, fmt='%d')"
   ]
  },
  {
   "cell_type": "code",
   "execution_count": 4024,
   "id": "0ba6d217",
   "metadata": {},
   "outputs": [
    {
     "data": {
      "text/plain": [
       "array([[-1., -1., -1., -1., -1., -1., -1., -1., -1., -1., -1., -1., -1.,\n",
       "        -1., -1., -1.,  1., -1., -1., -1., -1., -1., -1., -1., -1., -1.,\n",
       "        -1., -1., -1., -1., -1., -1.],\n",
       "       [-1., -1., -1., -1., -1., -1., -1., -1., -1., -1., -1.,  1.,  1.,\n",
       "         1.,  1.,  1., -1.,  1.,  1.,  1.,  1.,  1., -1., -1., -1., -1.,\n",
       "        -1., -1., -1., -1., -1., -1.],\n",
       "       [-1., -1., -1., -1., -1., -1., -1., -1., -1.,  1.,  1., -1., -1.,\n",
       "        -1., -1., -1., -1., -1., -1., -1., -1., -1.,  1.,  1., -1., -1.,\n",
       "        -1., -1., -1., -1., -1., -1.],\n",
       "       [-1., -1., -1., -1., -1., -1., -1.,  1.,  1., -1., -1., -1., -1.,\n",
       "        -1., -1., -1., -1., -1., -1., -1., -1., -1., -1., -1.,  1.,  1.,\n",
       "        -1., -1., -1., -1., -1., -1.],\n",
       "       [-1., -1., -1., -1., -1., -1.,  1.,  1., -1., -1., -1., -1., -1.,\n",
       "        -1., -1., -1.,  1., -1., -1., -1., -1., -1., -1., -1., -1.,  1.,\n",
       "         1., -1., -1., -1., -1., -1.],\n",
       "       [-1., -1., -1., -1., -1.,  1.,  1., -1., -1., -1., -1., -1.,  1.,\n",
       "         1.,  1.,  1.,  1.,  1.,  1.,  1.,  1., -1., -1., -1., -1., -1.,\n",
       "         1.,  1., -1., -1., -1., -1.],\n",
       "       [-1., -1., -1., -1.,  1.,  1., -1., -1., -1., -1.,  1.,  1.,  1.,\n",
       "         1.,  1.,  1.,  1.,  1.,  1.,  1.,  1.,  1.,  1., -1., -1., -1.,\n",
       "        -1.,  1.,  1., -1., -1., -1.],\n",
       "       [-1., -1., -1., -1.,  1., -1., -1., -1., -1.,  1.,  1.,  1.,  1.,\n",
       "         1.,  1.,  1., -1.,  1.,  1.,  1.,  1.,  1.,  1.,  1., -1., -1.,\n",
       "        -1., -1.,  1., -1., -1., -1.],\n",
       "       [-1., -1., -1.,  1., -1., -1., -1., -1.,  1.,  1.,  1.,  1.,  1.,\n",
       "        -1., -1., -1., -1., -1., -1., -1.,  1.,  1.,  1.,  1.,  1., -1.,\n",
       "        -1., -1., -1.,  1., -1., -1.],\n",
       "       [-1., -1., -1.,  1., -1., -1., -1.,  1.,  1.,  1.,  1., -1., -1.,\n",
       "        -1., -1., -1., -1., -1., -1., -1., -1., -1.,  1.,  1.,  1.,  1.,\n",
       "        -1., -1., -1.,  1., -1., -1.],\n",
       "       [-1., -1.,  1., -1., -1., -1., -1.,  1.,  1.,  1., -1., -1., -1.,\n",
       "        -1., -1., -1.,  1., -1., -1., -1., -1., -1., -1.,  1.,  1.,  1.,\n",
       "        -1., -1., -1., -1.,  1., -1.],\n",
       "       [-1., -1.,  1., -1., -1., -1.,  1.,  1.,  1.,  1., -1., -1., -1.,\n",
       "         1.,  1.,  1.,  1.,  1.,  1.,  1., -1., -1., -1.,  1.,  1.,  1.,\n",
       "         1., -1., -1., -1.,  1., -1.],\n",
       "       [-1., -1.,  1., -1., -1., -1.,  1.,  1.,  1., -1., -1., -1.,  1.,\n",
       "         1.,  1.,  1.,  1.,  1.,  1.,  1.,  1., -1., -1., -1.,  1.,  1.,\n",
       "         1., -1., -1., -1.,  1., -1.],\n",
       "       [-1., -1.,  1., -1., -1., -1.,  1.,  1.,  1., -1., -1., -1.,  1.,\n",
       "         1.,  1.,  1., -1.,  1.,  1.,  1.,  1., -1., -1., -1.,  1.,  1.,\n",
       "         1., -1., -1., -1.,  1., -1.],\n",
       "       [-1., -1.,  1., -1., -1., -1.,  1.,  1.,  1., -1., -1., -1.,  1.,\n",
       "         1.,  1., -1., -1., -1.,  1.,  1.,  1., -1., -1., -1.,  1.,  1.,\n",
       "         1., -1., -1., -1.,  1., -1.],\n",
       "       [-1.,  1., -1., -1., -1.,  1.,  1.,  1., -1., -1., -1.,  1.,  1.,\n",
       "         1., -1., -1., -1., -1., -1.,  1.,  1.,  1., -1., -1., -1.,  1.,\n",
       "         1.,  1., -1., -1., -1.,  1.],\n",
       "       [-1., -1.,  1., -1., -1., -1.,  1.,  1.,  1., -1., -1., -1.,  1.,\n",
       "         1.,  1., -1., -1., -1.,  1.,  1.,  1., -1., -1., -1.,  1.,  1.,\n",
       "         1., -1., -1., -1.,  1., -1.],\n",
       "       [-1., -1.,  1., -1., -1., -1.,  1.,  1.,  1., -1., -1., -1.,  1.,\n",
       "         1.,  1.,  1., -1.,  1.,  1.,  1.,  1., -1., -1., -1.,  1.,  1.,\n",
       "         1., -1., -1., -1.,  1., -1.],\n",
       "       [-1., -1.,  1., -1., -1., -1.,  1.,  1.,  1., -1., -1., -1.,  1.,\n",
       "         1.,  1.,  1.,  1.,  1.,  1.,  1.,  1., -1., -1., -1.,  1.,  1.,\n",
       "         1., -1., -1., -1.,  1., -1.],\n",
       "       [-1., -1.,  1., -1., -1., -1.,  1.,  1.,  1.,  1., -1., -1., -1.,\n",
       "         1.,  1.,  1.,  1.,  1.,  1.,  1., -1., -1., -1.,  1.,  1.,  1.,\n",
       "         1., -1., -1., -1.,  1., -1.],\n",
       "       [-1., -1.,  1., -1., -1., -1., -1.,  1.,  1.,  1., -1., -1., -1.,\n",
       "        -1., -1., -1.,  1., -1., -1., -1., -1., -1., -1.,  1.,  1.,  1.,\n",
       "        -1., -1., -1., -1.,  1., -1.],\n",
       "       [-1., -1., -1.,  1., -1., -1., -1.,  1.,  1.,  1.,  1., -1., -1.,\n",
       "        -1., -1., -1., -1., -1., -1., -1., -1., -1.,  1.,  1.,  1.,  1.,\n",
       "        -1., -1., -1.,  1., -1., -1.],\n",
       "       [-1., -1., -1.,  1., -1., -1., -1., -1.,  1.,  1.,  1.,  1.,  1.,\n",
       "        -1., -1., -1., -1., -1., -1., -1.,  1.,  1.,  1.,  1.,  1., -1.,\n",
       "        -1., -1., -1.,  1., -1., -1.],\n",
       "       [-1., -1., -1., -1.,  1., -1., -1., -1., -1.,  1.,  1.,  1.,  1.,\n",
       "         1.,  1.,  1., -1.,  1.,  1.,  1.,  1.,  1.,  1.,  1., -1., -1.,\n",
       "        -1., -1.,  1., -1., -1., -1.],\n",
       "       [-1., -1., -1., -1.,  1.,  1., -1., -1., -1., -1.,  1.,  1.,  1.,\n",
       "         1.,  1.,  1.,  1.,  1.,  1.,  1.,  1.,  1.,  1., -1., -1., -1.,\n",
       "        -1.,  1.,  1., -1., -1., -1.],\n",
       "       [-1., -1., -1., -1., -1.,  1.,  1., -1., -1., -1., -1., -1.,  1.,\n",
       "         1.,  1.,  1.,  1.,  1.,  1.,  1.,  1., -1., -1., -1., -1., -1.,\n",
       "         1.,  1., -1., -1., -1., -1.],\n",
       "       [-1., -1., -1., -1., -1., -1.,  1.,  1., -1., -1., -1., -1., -1.,\n",
       "        -1., -1., -1.,  1., -1., -1., -1., -1., -1., -1., -1., -1.,  1.,\n",
       "         1., -1., -1., -1., -1., -1.],\n",
       "       [-1., -1., -1., -1., -1., -1., -1.,  1.,  1., -1., -1., -1., -1.,\n",
       "        -1., -1., -1., -1., -1., -1., -1., -1., -1., -1., -1.,  1.,  1.,\n",
       "        -1., -1., -1., -1., -1., -1.],\n",
       "       [-1., -1., -1., -1., -1., -1., -1., -1., -1.,  1.,  1., -1., -1.,\n",
       "        -1., -1., -1., -1., -1., -1., -1., -1., -1.,  1.,  1., -1., -1.,\n",
       "        -1., -1., -1., -1., -1., -1.],\n",
       "       [-1., -1., -1., -1., -1., -1., -1., -1., -1., -1., -1.,  1.,  1.,\n",
       "         1.,  1.,  1., -1.,  1.,  1.,  1.,  1.,  1., -1., -1., -1., -1.,\n",
       "        -1., -1., -1., -1., -1., -1.],\n",
       "       [-1., -1., -1., -1., -1., -1., -1., -1., -1., -1., -1., -1., -1.,\n",
       "        -1., -1., -1.,  1., -1., -1., -1., -1., -1., -1., -1., -1., -1.,\n",
       "        -1., -1., -1., -1., -1., -1.],\n",
       "       [-1., -1., -1., -1., -1., -1., -1., -1., -1., -1., -1., -1., -1.,\n",
       "        -1., -1., -1., -1., -1., -1., -1., -1., -1., -1., -1., -1., -1.,\n",
       "        -1., -1., -1., -1., -1., -1.]], dtype=float32)"
      ]
     },
     "execution_count": 4024,
     "metadata": {},
     "output_type": "execute_result"
    }
   ],
   "source": [
    "b"
   ]
  },
  {
   "cell_type": "code",
   "execution_count": 300,
   "id": "4d2850ea",
   "metadata": {},
   "outputs": [
    {
     "name": "stdout",
     "output_type": "stream",
     "text": [
      "[181, 181]\n"
     ]
    }
   ],
   "source": [
    "new_edges_size=[181,181]\n",
    "print(new_edges_size[:])"
   ]
  },
  {
   "cell_type": "code",
   "execution_count": 295,
   "id": "dd736d06",
   "metadata": {},
   "outputs": [
    {
     "ename": "TypeError",
     "evalue": "can only concatenate list (not \"int\") to list",
     "output_type": "error",
     "traceback": [
      "\u001b[0;31m---------------------------------------------------------------------------\u001b[0m",
      "\u001b[0;31mTypeError\u001b[0m                                 Traceback (most recent call last)",
      "Cell \u001b[0;32mIn[295], line 2\u001b[0m\n\u001b[1;32m      1\u001b[0m \u001b[38;5;28;01mif\u001b[39;00m new_edges_size[\u001b[38;5;241m0\u001b[39m]\u001b[38;5;241m%\u001b[39m\u001b[38;5;241m2\u001b[39m\u001b[38;5;241m==\u001b[39m\u001b[38;5;241m1\u001b[39m:\n\u001b[0;32m----> 2\u001b[0m         new_edges_size[:]\u001b[38;5;241m=\u001b[39mnew_edges_size[:]\u001b[38;5;241m+\u001b[39m\u001b[38;5;241m1\u001b[39m\n",
      "\u001b[0;31mTypeError\u001b[0m: can only concatenate list (not \"int\") to list"
     ]
    }
   ],
   "source": [
    "if new_edges_size[0]%2==1:\n",
    "        new_edges_size[0]=new_edges_size[0]+1\n",
    "        new_edges_size[1]=new_edges_size[1]+1"
   ]
  },
  {
   "cell_type": "code",
   "execution_count": 292,
   "id": "5a786539",
   "metadata": {},
   "outputs": [
    {
     "name": "stdout",
     "output_type": "stream",
     "text": [
      "182\n"
     ]
    }
   ],
   "source": [
    "print(new_edges_size[0])"
   ]
  },
  {
   "cell_type": "code",
   "execution_count": null,
   "id": "4466ab18",
   "metadata": {},
   "outputs": [],
   "source": []
  }
 ],
 "metadata": {
  "kernelspec": {
   "display_name": "Python 3 (ipykernel)",
   "language": "python",
   "name": "python3"
  },
  "language_info": {
   "codemirror_mode": {
    "name": "ipython",
    "version": 3
   },
   "file_extension": ".py",
   "mimetype": "text/x-python",
   "name": "python",
   "nbconvert_exporter": "python",
   "pygments_lexer": "ipython3",
   "version": "3.11.5"
  }
 },
 "nbformat": 4,
 "nbformat_minor": 5
}
